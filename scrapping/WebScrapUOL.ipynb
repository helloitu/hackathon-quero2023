{
 "cells": [
  {
   "cell_type": "code",
   "execution_count": null,
   "metadata": {},
   "outputs": [],
   "source": []
  },
  {
   "cell_type": "code",
   "execution_count": null,
   "metadata": {},
   "outputs": [
    {
     "ename": "",
     "evalue": "",
     "output_type": "error",
     "traceback": [
      "\u001b[1;31mRunning cells with 'Python 3.10.12 64-bit' requires ipykernel package.\n",
      "\u001b[1;31mRun the following command to install 'ipykernel' into the Python environment. \n",
      "\u001b[1;31mCommand: '/usr/bin/python3 -m pip install ipykernel -U --user --force-reinstall'"
     ]
    }
   ],
   "source": [
    "import requests\n",
    "from bs4 import BeautifulSoup\n",
    "import pandas as pd"
   ]
  },
  {
   "cell_type": "markdown",
   "metadata": {},
   "source": [
    "### Pegando Links dos temas\n",
    "Pagina: https://educacao.uol.com.br/bancoderedacoes/"
   ]
  },
  {
   "cell_type": "code",
   "execution_count": 71,
   "metadata": {},
   "outputs": [
    {
     "name": "stdout",
     "output_type": "stream",
     "text": [
      "Encontrados 55 links de diferentes temas do ENEM:\n",
      "Exemplo: ['https://educacao.uol.com.br/bancoderedacoes/propostas/qualificacao-e-o-futuro-do-emprego.htm', 'https://educacao.uol.com.br/bancoderedacoes/propostas/supremo-tribunal-federal-e-opiniao-publica.htm']\n"
     ]
    }
   ],
   "source": [
    "html = open('main_page.txt','r').read()\n",
    "main_page = BeautifulSoup(html)\n",
    "temas = main_page.find_all('div', attrs={'class':'thumbnails-item'}) # divs\n",
    "temas_links = [link.find('a').get('href') for link in temas] # hrefs\n",
    "print(f'Encontrados {len(temas_links)} links de diferentes temas do ENEM:\\nExemplo: {temas_links[:2]}')"
   ]
  },
  {
   "cell_type": "markdown",
   "metadata": {},
   "source": [
    "### Seguindo Links"
   ]
  },
  {
   "cell_type": "code",
   "execution_count": 72,
   "metadata": {},
   "outputs": [],
   "source": [
    "# faz um request para cada link de tema\n",
    "temas_paginas = []\n",
    "for link in temas_links:\n",
    "    pagina_do_tema = requests.get(link).text\n",
    "    pagina_do_tema = BeautifulSoup(pagina_do_tema)\n",
    "    temas_paginas.append(pagina_do_tema)"
   ]
  },
  {
   "cell_type": "code",
   "execution_count": 128,
   "metadata": {},
   "outputs": [
    {
     "name": "stdout",
     "output_type": "stream",
     "text": [
      "Total de 42 temas com 834 redacoes(links)\n"
     ]
    }
   ],
   "source": [
    "banco = {} # banco de redacoes\n",
    "qtd_redacoes = 0\n",
    "for pagina in temas_paginas:\n",
    "    redacoes = pagina.find_all('section',attrs={'class':'results-table'})\n",
    "    # deve retornar um unico objeto HTML\n",
    "    if len(redacoes) != 1:\n",
    "        # print(f'Tema {nome_do_tema} não possui redacoes')\n",
    "        continue\n",
    "    #\n",
    "    nome_do_tema = pagina.find_all('i', attrs={'custom-title'})[0].get_text().strip()\n",
    "    redacoes = redacoes[0].find_all('div', attrs={'class':'rt-line-option'})\n",
    "    redacoes_links = [red.find_all('a')[0].get('href') for red in redacoes]\n",
    "    banco[nome_do_tema] = redacoes_links\n",
    "    qtd_redacoes += len(redacoes_links)\n",
    "    # print(f'Para o tema \"{nome_do_tema}\" foram encontradas {len(redacoes_links)} redacoes corrigidas') \n",
    "print(f'Total de {len(banco.keys())} temas com {qtd_redacoes} redacoes(links)')"
   ]
  },
  {
   "cell_type": "markdown",
   "metadata": {},
   "source": [
    "### Acessando Redações"
   ]
  },
  {
   "cell_type": "code",
   "execution_count": null,
   "metadata": {},
   "outputs": [],
   "source": [
    "\n",
    "        red[''] = ''\n",
    "        red[''] = ''\n",
    "        red[''] = ''\n",
    "        red[''] = ''"
   ]
  },
  {
   "cell_type": "code",
   "execution_count": 184,
   "metadata": {},
   "outputs": [],
   "source": [
    "MAPPING_TOPICS = [\n",
    "    'Demonstrar domínio da norma culta da língua escrita.',\n",
    "    'Compreender a proposta da redação e aplicar conceito das várias áreas de conhecimento para desenvolver o tema, dentro dos limites estruturais do texto dissertativo-argumentativo.',\n",
    "    'Selecionar, relacionar, organizar e interpretar informações, fatos, opiniões e argumentos em defesa de um ponto de vista.',\n",
    "    'Demonstrar conhecimento dos mecanismos linguísticos necessários para a construção da argumentação.',\n",
    "    'Elaborar a proposta de solução para o problema abordado, mostrando respeito aos valores humanos e considerando a diversidade sociocultural.',\n",
    "    'Nota final']"
   ]
  },
  {
   "cell_type": "code",
   "execution_count": 195,
   "metadata": {},
   "outputs": [],
   "source": [
    "redacoes_completas = []\n",
    "\n",
    "for tema, redacoes_url in banco.items():\n",
    "    for url in redacoes_url[:2]:\n",
    "        resp = BeautifulSoup(requests.get(url).text)\n",
    "        # cria objeto\n",
    "        red = {}\n",
    "        red['tema'] = tema\n",
    "        red['titulo'] = resp.find_all('h2')[-1].get_text().strip()\n",
    "        red['nota_final'] = resp.find_all('span', attrs={'class':'mark'})[0].get_text().strip()\n",
    "        #\n",
    "        #\n",
    "        #\n",
    "        # tabela com nota para as competencias:\n",
    "        competencias_table = resp.find_all('section',attrs={'class':'results-table'})[0]\n",
    "        topics = competencias_table.find_all('span',attrs={'class':'topic'})\n",
    "        topics = [t.get_text() for t in topics]\n",
    "        # notas\n",
    "        points = competencias_table.find_all('span',attrs={'class':'points'})\n",
    "        points = [t.get_text() for t in points]\n",
    "        points\n",
    "        competencias_com_nota = {k[0]:k[1] for k in list(zip(topics, points))}\n",
    "        \n",
    "        red['comp_lingua_culta'] = competencias_com_nota[MAPPING_TOPICS[0]]\n",
    "        red['comp_proposta'] = competencias_com_nota[MAPPING_TOPICS[1]]\n",
    "        red['comp_argumentacao'] = competencias_com_nota[MAPPING_TOPICS[2]]\n",
    "        red['comp_conhecimentos'] = competencias_com_nota[MAPPING_TOPICS[3]]\n",
    "        red['comp_proposta_solucao'] = competencias_com_nota[MAPPING_TOPICS[4]]\n",
    "        #\n",
    "        #\n",
    "        #\n",
    "        red['url'] = url\n",
    "        red['texto_original'] = ''\n",
    "        red['texto_com_anotacoes'] = ''\n",
    "        red['comentario_geral'] = ''\n",
    "        red['competencias_resumo'] = ''\n",
    "        #\n",
    "        #\n",
    "        #\n",
    "        redacoes_completas.append(red)\n",
    "    break"
   ]
  },
  {
   "cell_type": "code",
   "execution_count": 196,
   "metadata": {},
   "outputs": [
    {
     "data": {
      "text/plain": [
       "{'tema': 'Qualificação e o futuro do emprego',\n",
       " 'titulo': 'Qualificação será o futuro do emprego',\n",
       " 'nota_final': '220',\n",
       " 'comp_lingua_culta': '80',\n",
       " 'comp_proposta': '80',\n",
       " 'comp_argumentacao': '20',\n",
       " 'comp_conhecimentos': '20',\n",
       " 'comp_proposta_solucao': '20',\n",
       " 'url': 'https://educacao.uol.com.br/bancoderedacoes/redacoes/qualificacao-sera-o-futuro-do-emprego.htm',\n",
       " 'texto_original': '',\n",
       " 'texto_com_anotacoes': '',\n",
       " 'comentario_geral': '',\n",
       " 'competencias_resumo': ''}"
      ]
     },
     "execution_count": 196,
     "metadata": {},
     "output_type": "execute_result"
    }
   ],
   "source": [
    "red"
   ]
  },
  {
   "cell_type": "code",
   "execution_count": 192,
   "metadata": {},
   "outputs": [],
   "source": [
    "redacoes_completas_df = pd.DataFrame(redacoes_completas)"
   ]
  }
 ],
 "metadata": {
  "kernelspec": {
   "display_name": "Python 3.10.12 64-bit",
   "language": "python",
   "name": "python3"
  },
  "language_info": {
   "codemirror_mode": {
    "name": "ipython",
    "version": 3
   },
   "file_extension": ".py",
   "mimetype": "text/x-python",
   "name": "python",
   "nbconvert_exporter": "python",
   "pygments_lexer": "ipython3",
   "version": "3.10.12"
  },
  "orig_nbformat": 4,
  "vscode": {
   "interpreter": {
    "hash": "31f2aee4e71d21fbe5cf8b01ff0e069b9275f58929596ceb00d14d90e3e16cd6"
   }
  }
 },
 "nbformat": 4,
 "nbformat_minor": 2
}
